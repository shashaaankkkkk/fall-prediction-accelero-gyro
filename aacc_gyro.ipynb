{
 "cells": [
  {
   "cell_type": "code",
   "execution_count": 25,
   "id": "3ed7ee97-58dc-4551-a2ed-d081cc78d2ef",
   "metadata": {},
   "outputs": [
    {
     "name": "stdout",
     "output_type": "stream",
     "text": [
      "Accuracy: 0.6650309917355371\n",
      "              precision    recall  f1-score   support\n",
      "\n",
      "           0       0.75      0.53      0.62      3640\n",
      "           1       0.89      0.40      0.56       797\n",
      "           2       0.56      0.73      0.64      5500\n",
      "           3       0.77      0.50      0.61      1123\n",
      "           4       0.75      0.74      0.75      3285\n",
      "           5       0.64      0.46      0.54      1181\n",
      "           6       0.69      0.80      0.74      3834\n",
      "\n",
      "    accuracy                           0.67     19360\n",
      "   macro avg       0.72      0.60      0.63     19360\n",
      "weighted avg       0.68      0.67      0.66     19360\n",
      "\n"
     ]
    }
   ],
   "source": [
    "import pandas as pd\n",
    "from sklearn.model_selection import train_test_split\n",
    "from sklearn.preprocessing import StandardScaler, LabelEncoder\n",
    "from sklearn.ensemble import RandomForestClassifier\n",
    "from sklearn.metrics import accuracy_score, classification_report\n",
    "import joblib\n",
    "\n",
    "# Load your dataset\n",
    "data = pd.read_csv('acc_gyr.csv')\n",
    "\n",
    "# Preprocess the data\n",
    "X = data[['xAcc', 'yAcc', 'zAcc', 'xGyro', 'yGyro', 'zGyro']]\n",
    "y = data['label']\n",
    "\n",
    "# Encode labels\n",
    "label_encoder = LabelEncoder()\n",
    "y_encoded = label_encoder.fit_transform(y)\n",
    "\n",
    "# Save the label encoder classes\n",
    "joblib.dump(label_encoder.classes_, 'label_encoder_classes.npy')\n",
    "\n",
    "# Split the dataset into training and testing sets\n",
    "X_train, X_test, y_train, y_test = train_test_split(X, y_encoded, test_size=0.2, random_state=42)\n",
    "\n",
    "# Standardize the features\n",
    "scaler = StandardScaler()\n",
    "X_train = scaler.fit_transform(X_train)\n",
    "X_test = scaler.transform(X_test)\n",
    "\n",
    "# Train a Random Forest model\n",
    "clf = RandomForestClassifier(n_estimators=100, random_state=42)\n",
    "clf.fit(X_train, y_train)\n",
    "\n",
    "# Save the model and scaler\n",
    "joblib.dump(clf, 'fall_detection_model.pkl')\n",
    "joblib.dump(scaler, 'scaler.pkl')\n",
    "\n",
    "# Evaluate the model\n",
    "y_pred = clf.predict(X_test)\n",
    "print(f'Accuracy: {accuracy_score(y_test, y_pred)}')\n",
    "print(classification_report(y_test, y_pred))\n"
   ]
  },
  {
   "cell_type": "code",
   "execution_count": 29,
   "id": "e5620a2c-8ba0-44fd-a675-bb33a099a678",
   "metadata": {},
   "outputs": [
    {
     "name": "stdout",
     "output_type": "stream",
     "text": [
      "Predicted label: fall\n"
     ]
    },
    {
     "name": "stderr",
     "output_type": "stream",
     "text": [
      "/opt/anaconda3/lib/python3.11/site-packages/sklearn/base.py:439: UserWarning: X does not have valid feature names, but StandardScaler was fitted with feature names\n",
      "  warnings.warn(\n"
     ]
    }
   ],
   "source": [
    "import numpy as np\n",
    "import joblib\n",
    "from sklearn.preprocessing import LabelEncoder\n",
    "\n",
    "# Load the trained model and scaler\n",
    "clf_ = joblib.load('fall_detection_model.pkl')\n",
    "scaler_ = joblib.load('scaler.pkl')\n",
    "\n",
    "# Load the label encoder classes\n",
    "label_encoder_classes = joblib.load('label_encoder_classes.npy')\n",
    "label_encoder = LabelEncoder()\n",
    "label_encoder.classes_ = label_encoder_classes\n",
    "\n",
    "# Manual data input (replace these values with your actual data)\n",
    "new_data = np.array([[8.33,0.00,9.81,1.66,1.13,3.58]])\n",
    "\n",
    "# Standardize the new data using the loaded scaler\n",
    "new_data_scaled = scaler_.transform(new_data)\n",
    "\n",
    "# Predict the class of the new data\n",
    "predicted_class = clf_.predict(new_data_scaled)\n",
    "\n",
    "# Decode the predicted class\n",
    "predicted_label = label_encoder.inverse_transform(predicted_class)\n",
    "print(f'Predicted label: {predicted_label[0]}')\n"
   ]
  },
  {
   "cell_type": "code",
   "execution_count": null,
   "id": "382aa8ce-35ad-4307-b7bf-c02ed8fd5942",
   "metadata": {},
   "outputs": [],
   "source": []
  }
 ],
 "metadata": {
  "kernelspec": {
   "display_name": "Python 3 (ipykernel)",
   "language": "python",
   "name": "python3"
  },
  "language_info": {
   "codemirror_mode": {
    "name": "ipython",
    "version": 3
   },
   "file_extension": ".py",
   "mimetype": "text/x-python",
   "name": "python",
   "nbconvert_exporter": "python",
   "pygments_lexer": "ipython3",
   "version": "3.11.7"
  }
 },
 "nbformat": 4,
 "nbformat_minor": 5
}
